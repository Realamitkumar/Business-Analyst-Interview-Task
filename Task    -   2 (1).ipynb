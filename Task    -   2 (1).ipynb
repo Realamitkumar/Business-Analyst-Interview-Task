{
 "cells": [
  {
   "cell_type": "markdown",
   "id": "345bc62c",
   "metadata": {},
   "source": [
    "**TASK 2**\n",
    "\n",
    "Please attempt the questions that **follow in Python**\n",
    "\n",
    "\n",
    "1. Read the csv or excel file.\n",
    "2. Change the datatypes of the column and \n",
    "   check the memory usage before and after the\n",
    "   change in the data types.\n",
    "3. Dump the data into the mysql database.\n",
    "4. index the column after the data is inserted.\n",
    "\n",
    "\n",
    "Note: Please make a note we are dumping the data everyday so first delete the indexing from\n",
    "the table and then insert the data.\n",
    "Submission can be a document or any IDE Notebook"
   ]
  },
  {
   "cell_type": "code",
   "execution_count": 13,
   "id": "e2c2a86e",
   "metadata": {},
   "outputs": [],
   "source": [
    "import pandas as pd \n",
    "import sqlite3 #sqlite for writing sql queries\n",
    "import logging #for dummping"
   ]
  },
  {
   "cell_type": "markdown",
   "id": "3c21f62d",
   "metadata": {},
   "source": [
    "**1. Reading the csv or excel file.**"
   ]
  },
  {
   "cell_type": "code",
   "execution_count": 26,
   "id": "e44870f5",
   "metadata": {},
   "outputs": [
    {
     "data": {
      "text/html": [
       "<div>\n",
       "<style scoped>\n",
       "    .dataframe tbody tr th:only-of-type {\n",
       "        vertical-align: middle;\n",
       "    }\n",
       "\n",
       "    .dataframe tbody tr th {\n",
       "        vertical-align: top;\n",
       "    }\n",
       "\n",
       "    .dataframe thead th {\n",
       "        text-align: right;\n",
       "    }\n",
       "</style>\n",
       "<table border=\"1\" class=\"dataframe\">\n",
       "  <thead>\n",
       "    <tr style=\"text-align: right;\">\n",
       "      <th></th>\n",
       "      <th>bike_name</th>\n",
       "      <th>price</th>\n",
       "      <th>city</th>\n",
       "      <th>kms_driven</th>\n",
       "      <th>owner</th>\n",
       "      <th>age</th>\n",
       "      <th>power</th>\n",
       "      <th>brand</th>\n",
       "    </tr>\n",
       "  </thead>\n",
       "  <tbody>\n",
       "    <tr>\n",
       "      <th>0</th>\n",
       "      <td>TVS Star City Plus Dual Tone 110cc</td>\n",
       "      <td>35000.0</td>\n",
       "      <td>Ahmedabad</td>\n",
       "      <td>17654.0</td>\n",
       "      <td>First Owner</td>\n",
       "      <td>3.0</td>\n",
       "      <td>110.0</td>\n",
       "      <td>TVS</td>\n",
       "    </tr>\n",
       "    <tr>\n",
       "      <th>1</th>\n",
       "      <td>Royal Enfield Classic 350cc</td>\n",
       "      <td>119900.0</td>\n",
       "      <td>Delhi</td>\n",
       "      <td>11000.0</td>\n",
       "      <td>First Owner</td>\n",
       "      <td>4.0</td>\n",
       "      <td>350.0</td>\n",
       "      <td>Royal Enfield</td>\n",
       "    </tr>\n",
       "    <tr>\n",
       "      <th>2</th>\n",
       "      <td>Triumph Daytona 675R</td>\n",
       "      <td>600000.0</td>\n",
       "      <td>Delhi</td>\n",
       "      <td>110.0</td>\n",
       "      <td>First Owner</td>\n",
       "      <td>8.0</td>\n",
       "      <td>675.0</td>\n",
       "      <td>Triumph</td>\n",
       "    </tr>\n",
       "    <tr>\n",
       "      <th>3</th>\n",
       "      <td>TVS Apache RTR 180cc</td>\n",
       "      <td>65000.0</td>\n",
       "      <td>Bangalore</td>\n",
       "      <td>16329.0</td>\n",
       "      <td>First Owner</td>\n",
       "      <td>4.0</td>\n",
       "      <td>180.0</td>\n",
       "      <td>TVS</td>\n",
       "    </tr>\n",
       "    <tr>\n",
       "      <th>4</th>\n",
       "      <td>Yamaha FZ S V 2.0 150cc-Ltd. Edition</td>\n",
       "      <td>80000.0</td>\n",
       "      <td>Bangalore</td>\n",
       "      <td>10000.0</td>\n",
       "      <td>First Owner</td>\n",
       "      <td>3.0</td>\n",
       "      <td>150.0</td>\n",
       "      <td>Yamaha</td>\n",
       "    </tr>\n",
       "    <tr>\n",
       "      <th>...</th>\n",
       "      <td>...</td>\n",
       "      <td>...</td>\n",
       "      <td>...</td>\n",
       "      <td>...</td>\n",
       "      <td>...</td>\n",
       "      <td>...</td>\n",
       "      <td>...</td>\n",
       "      <td>...</td>\n",
       "    </tr>\n",
       "    <tr>\n",
       "      <th>144</th>\n",
       "      <td>Royal Enfield Standard 350cc</td>\n",
       "      <td>115000.0</td>\n",
       "      <td>Hyderabad</td>\n",
       "      <td>14900.0</td>\n",
       "      <td>First Owner</td>\n",
       "      <td>3.0</td>\n",
       "      <td>350.0</td>\n",
       "      <td>Royal Enfield</td>\n",
       "    </tr>\n",
       "    <tr>\n",
       "      <th>145</th>\n",
       "      <td>Honda CB Shine 125cc Disc</td>\n",
       "      <td>65000.0</td>\n",
       "      <td>Mumbai</td>\n",
       "      <td>2000.0</td>\n",
       "      <td>First Owner</td>\n",
       "      <td>3.0</td>\n",
       "      <td>125.0</td>\n",
       "      <td>Honda</td>\n",
       "    </tr>\n",
       "    <tr>\n",
       "      <th>146</th>\n",
       "      <td>Honda CB Unicorn ABS 150cc</td>\n",
       "      <td>99000.0</td>\n",
       "      <td>Mumbai</td>\n",
       "      <td>4000.0</td>\n",
       "      <td>First Owner</td>\n",
       "      <td>2.0</td>\n",
       "      <td>150.0</td>\n",
       "      <td>Honda</td>\n",
       "    </tr>\n",
       "    <tr>\n",
       "      <th>147</th>\n",
       "      <td>Yamaha YZF-R15 2.0 150cc</td>\n",
       "      <td>68500.0</td>\n",
       "      <td>Delhi</td>\n",
       "      <td>68500.0</td>\n",
       "      <td>Second Owner</td>\n",
       "      <td>7.0</td>\n",
       "      <td>150.0</td>\n",
       "      <td>Yamaha</td>\n",
       "    </tr>\n",
       "    <tr>\n",
       "      <th>148</th>\n",
       "      <td>Yamaha YZF-R15 V3 150cc</td>\n",
       "      <td>140000.0</td>\n",
       "      <td>Delhi</td>\n",
       "      <td>2473.0</td>\n",
       "      <td>First Owner</td>\n",
       "      <td>2.0</td>\n",
       "      <td>150.0</td>\n",
       "      <td>Yamaha</td>\n",
       "    </tr>\n",
       "  </tbody>\n",
       "</table>\n",
       "<p>149 rows × 8 columns</p>\n",
       "</div>"
      ],
      "text/plain": [
       "                                bike_name     price       city  kms_driven  \\\n",
       "0      TVS Star City Plus Dual Tone 110cc   35000.0  Ahmedabad     17654.0   \n",
       "1             Royal Enfield Classic 350cc  119900.0      Delhi     11000.0   \n",
       "2                    Triumph Daytona 675R  600000.0      Delhi       110.0   \n",
       "3                    TVS Apache RTR 180cc   65000.0  Bangalore     16329.0   \n",
       "4    Yamaha FZ S V 2.0 150cc-Ltd. Edition   80000.0  Bangalore     10000.0   \n",
       "..                                    ...       ...        ...         ...   \n",
       "144          Royal Enfield Standard 350cc  115000.0  Hyderabad     14900.0   \n",
       "145             Honda CB Shine 125cc Disc   65000.0     Mumbai      2000.0   \n",
       "146            Honda CB Unicorn ABS 150cc   99000.0     Mumbai      4000.0   \n",
       "147              Yamaha YZF-R15 2.0 150cc   68500.0      Delhi     68500.0   \n",
       "148               Yamaha YZF-R15 V3 150cc  140000.0      Delhi      2473.0   \n",
       "\n",
       "            owner  age  power          brand  \n",
       "0     First Owner  3.0  110.0            TVS  \n",
       "1     First Owner  4.0  350.0  Royal Enfield  \n",
       "2     First Owner  8.0  675.0        Triumph  \n",
       "3     First Owner  4.0  180.0            TVS  \n",
       "4     First Owner  3.0  150.0         Yamaha  \n",
       "..            ...  ...    ...            ...  \n",
       "144   First Owner  3.0  350.0  Royal Enfield  \n",
       "145   First Owner  3.0  125.0          Honda  \n",
       "146   First Owner  2.0  150.0          Honda  \n",
       "147  Second Owner  7.0  150.0         Yamaha  \n",
       "148   First Owner  2.0  150.0         Yamaha  \n",
       "\n",
       "[149 rows x 8 columns]"
      ]
     },
     "execution_count": 26,
     "metadata": {},
     "output_type": "execute_result"
    }
   ],
   "source": [
    "df = pd.read_csv('used_bike.csv')\n",
    "df"
   ]
  },
  {
   "cell_type": "markdown",
   "id": "88e385d2",
   "metadata": {},
   "source": [
    "**2. Changing the datatypes of the column and checking the memory usage before and after the change in the data types.**"
   ]
  },
  {
   "cell_type": "code",
   "execution_count": 27,
   "id": "2a7d2c18",
   "metadata": {},
   "outputs": [
    {
     "data": {
      "text/plain": [
       "Index          128\n",
       "bike_name     1192\n",
       "price         1192\n",
       "city          1192\n",
       "kms_driven    1192\n",
       "owner         1192\n",
       "age           1192\n",
       "power         1192\n",
       "brand         1192\n",
       "dtype: int64"
      ]
     },
     "execution_count": 27,
     "metadata": {},
     "output_type": "execute_result"
    }
   ],
   "source": [
    "#checking memory usage before changing the datatype of ``price`` from int64 to int32\n",
    "df.memory_usage()"
   ]
  },
  {
   "cell_type": "code",
   "execution_count": 28,
   "id": "09e797a0",
   "metadata": {},
   "outputs": [
    {
     "data": {
      "text/plain": [
       "9664"
      ]
     },
     "execution_count": 28,
     "metadata": {},
     "output_type": "execute_result"
    }
   ],
   "source": [
    "#Total Memory Usage\n",
    "df.memory_usage().sum()"
   ]
  },
  {
   "cell_type": "code",
   "execution_count": 29,
   "id": "ab9bfd9a",
   "metadata": {},
   "outputs": [],
   "source": [
    "# Now, Changing Datatype of Price from ``int64`` to ``int32``\n",
    "df = df.astype(\"int32\",errors='ignore')"
   ]
  },
  {
   "cell_type": "code",
   "execution_count": 30,
   "id": "525066ec",
   "metadata": {},
   "outputs": [
    {
     "data": {
      "text/plain": [
       "Index          128\n",
       "bike_name     1192\n",
       "price          596\n",
       "city          1192\n",
       "kms_driven     596\n",
       "owner         1192\n",
       "age            596\n",
       "power          596\n",
       "brand         1192\n",
       "dtype: int64"
      ]
     },
     "execution_count": 30,
     "metadata": {},
     "output_type": "execute_result"
    }
   ],
   "source": [
    "#checking memory usage after converting\n",
    "df.memory_usage()"
   ]
  },
  {
   "cell_type": "code",
   "execution_count": 31,
   "id": "4d34dad0",
   "metadata": {},
   "outputs": [
    {
     "data": {
      "text/plain": [
       "7280"
      ]
     },
     "execution_count": 31,
     "metadata": {},
     "output_type": "execute_result"
    }
   ],
   "source": [
    "#Now,\n",
    "#Total Memory Usage\n",
    "df.memory_usage().sum()"
   ]
  },
  {
   "cell_type": "markdown",
   "id": "b7d790e9",
   "metadata": {},
   "source": [
    "**Dropping  Index**"
   ]
  },
  {
   "cell_type": "code",
   "execution_count": 32,
   "id": "6876e097",
   "metadata": {},
   "outputs": [],
   "source": [
    "#Dropping  Index\n",
    "df.reset_index(drop=True, inplace=True)"
   ]
  },
  {
   "cell_type": "code",
   "execution_count": 33,
   "id": "e89f1b80",
   "metadata": {},
   "outputs": [
    {
     "name": "stdout",
     "output_type": "stream",
     "text": [
      "                                bike_name   price       city  kms_driven  \\\n",
      "0      TVS Star City Plus Dual Tone 110cc   35000  Ahmedabad       17654   \n",
      "1             Royal Enfield Classic 350cc  119900      Delhi       11000   \n",
      "2                    Triumph Daytona 675R  600000      Delhi         110   \n",
      "3                    TVS Apache RTR 180cc   65000  Bangalore       16329   \n",
      "4    Yamaha FZ S V 2.0 150cc-Ltd. Edition   80000  Bangalore       10000   \n",
      "..                                    ...     ...        ...         ...   \n",
      "144          Royal Enfield Standard 350cc  115000  Hyderabad       14900   \n",
      "145             Honda CB Shine 125cc Disc   65000     Mumbai        2000   \n",
      "146            Honda CB Unicorn ABS 150cc   99000     Mumbai        4000   \n",
      "147              Yamaha YZF-R15 2.0 150cc   68500      Delhi       68500   \n",
      "148               Yamaha YZF-R15 V3 150cc  140000      Delhi        2473   \n",
      "\n",
      "            owner  age  power          brand  \n",
      "0     First Owner    3    110            TVS  \n",
      "1     First Owner    4    350  Royal Enfield  \n",
      "2     First Owner    8    675        Triumph  \n",
      "3     First Owner    4    180            TVS  \n",
      "4     First Owner    3    150         Yamaha  \n",
      "..            ...  ...    ...            ...  \n",
      "144   First Owner    3    350  Royal Enfield  \n",
      "145   First Owner    3    125          Honda  \n",
      "146   First Owner    2    150          Honda  \n",
      "147  Second Owner    7    150         Yamaha  \n",
      "148   First Owner    2    150         Yamaha  \n",
      "\n",
      "[149 rows x 8 columns]\n"
     ]
    }
   ],
   "source": [
    "print(df)"
   ]
  },
  {
   "cell_type": "markdown",
   "id": "30265614",
   "metadata": {},
   "source": [
    "**3. Dumping the data into the mysql database.**"
   ]
  },
  {
   "cell_type": "code",
   "execution_count": 34,
   "id": "502526fa",
   "metadata": {},
   "outputs": [],
   "source": [
    "#dumping the file in MySQL \n",
    "# defining function to convert pandas dataframe into MySQL\n",
    "def pd_to_sqlDB(input_df: pd.DataFrame,table_name: str,db_name: str = 'default.db') -> None:\n",
    "  \n",
    "    # Settingup local logging\n",
    "    logging.basicConfig(level=logging.INFO,format='%(asctime)s %(levelname)s: %(message)s',\n",
    "                        datefmt='%Y-%m-%d %H:%M:%S')\n",
    "    \n",
    "    # Finding columns in the dataframe\n",
    "    cols = input_df.columns\n",
    "    cols_string = ','.join(cols)\n",
    "    val_wildcard_string = ','.join(['?'] * len(cols))\n",
    "\n",
    "    #Connecting to a DB file if it exists, else crete a new file\n",
    "    con = sqlite3.connect(db_name)\n",
    "    cur = con.cursor()\n",
    "    logging.info(f'SQL DB {db_name} created')\n",
    "\n",
    "    #Creating Table\n",
    "    sql_string = f\"\"\"CREATE TABLE {table_name} ({cols_string});\"\"\"\n",
    "    cur.execute(sql_string)\n",
    "    logging.info(f'SQL Table {table_name} created with {len(cols)} columns')\n",
    "\n",
    "    #Uploading the dataframe\n",
    "    rows_to_upload = input_df.to_dict(orient='split')['data']\n",
    "    sql_string = f\"\"\"INSERT INTO {table_name} ({cols_string}) VALUES ({val_wildcard_string});\"\"\"    \n",
    "    cur.executemany(sql_string, rows_to_upload)\n",
    "    logging.info(f'{len(rows_to_upload)} rows uploaded to {table_name}')\n",
    "    \n",
    "    #Commiting the changes and closing the connection\n",
    "    con.commit()\n",
    "    con.close()"
   ]
  },
  {
   "cell_type": "code",
   "execution_count": 35,
   "id": "33c31631",
   "metadata": {},
   "outputs": [
    {
     "name": "stderr",
     "output_type": "stream",
     "text": [
      "2022-11-13 22:43:26 INFO: SQL DB data.db created\n",
      "2022-11-13 22:43:26 INFO: SQL Table used_bike created with 8 columns\n",
      "2022-11-13 22:43:26 INFO: 149 rows uploaded to used_bike\n"
     ]
    }
   ],
   "source": [
    "#Finally, Dumpping\n",
    "\n",
    "pd_to_sqlDB(df,table_name='used_bike',db_name='data.db')"
   ]
  },
  {
   "cell_type": "markdown",
   "id": "bbdc2179",
   "metadata": {},
   "source": [
    "**4.indexing the column after the data is inserted.**"
   ]
  },
  {
   "cell_type": "code",
   "execution_count": 36,
   "id": "54148d9e",
   "metadata": {},
   "outputs": [],
   "source": [
    "def sql_query_to_pd(sql_query_string: str, db_name: str ='default.db') -> pd.DataFrame:\n",
    "    # connecting to the SQL DB\n",
    "    con = sqlite3.connect(db_name)\n",
    "    # Executing the SQL query\n",
    "    cursor = con.execute(sql_query_string)\n",
    "    # Fetching the data and column names\n",
    "    result_data = cursor.fetchall()\n",
    "    cols = [description[0] for description in cursor.description]\n",
    "    # Closing the connection\n",
    "    con.close()\n",
    "    # Returning as a dataframe\n",
    "    return pd.DataFrame(result_data, columns=cols)"
   ]
  },
  {
   "cell_type": "code",
   "execution_count": 37,
   "id": "f60813e6",
   "metadata": {},
   "outputs": [
    {
     "data": {
      "text/html": [
       "<div>\n",
       "<style scoped>\n",
       "    .dataframe tbody tr th:only-of-type {\n",
       "        vertical-align: middle;\n",
       "    }\n",
       "\n",
       "    .dataframe tbody tr th {\n",
       "        vertical-align: top;\n",
       "    }\n",
       "\n",
       "    .dataframe thead th {\n",
       "        text-align: right;\n",
       "    }\n",
       "</style>\n",
       "<table border=\"1\" class=\"dataframe\">\n",
       "  <thead>\n",
       "    <tr style=\"text-align: right;\">\n",
       "      <th></th>\n",
       "      <th>bike_name</th>\n",
       "      <th>price</th>\n",
       "      <th>city</th>\n",
       "      <th>kms_driven</th>\n",
       "      <th>owner</th>\n",
       "      <th>age</th>\n",
       "      <th>power</th>\n",
       "      <th>brand</th>\n",
       "    </tr>\n",
       "  </thead>\n",
       "  <tbody>\n",
       "    <tr>\n",
       "      <th>0</th>\n",
       "      <td>TVS Star City Plus Dual Tone 110cc</td>\n",
       "      <td>35000</td>\n",
       "      <td>Ahmedabad</td>\n",
       "      <td>17654</td>\n",
       "      <td>First Owner</td>\n",
       "      <td>3</td>\n",
       "      <td>110</td>\n",
       "      <td>TVS</td>\n",
       "    </tr>\n",
       "    <tr>\n",
       "      <th>1</th>\n",
       "      <td>Royal Enfield Classic 350cc</td>\n",
       "      <td>119900</td>\n",
       "      <td>Delhi</td>\n",
       "      <td>11000</td>\n",
       "      <td>First Owner</td>\n",
       "      <td>4</td>\n",
       "      <td>350</td>\n",
       "      <td>Royal Enfield</td>\n",
       "    </tr>\n",
       "    <tr>\n",
       "      <th>2</th>\n",
       "      <td>Triumph Daytona 675R</td>\n",
       "      <td>600000</td>\n",
       "      <td>Delhi</td>\n",
       "      <td>110</td>\n",
       "      <td>First Owner</td>\n",
       "      <td>8</td>\n",
       "      <td>675</td>\n",
       "      <td>Triumph</td>\n",
       "    </tr>\n",
       "    <tr>\n",
       "      <th>3</th>\n",
       "      <td>TVS Apache RTR 180cc</td>\n",
       "      <td>65000</td>\n",
       "      <td>Bangalore</td>\n",
       "      <td>16329</td>\n",
       "      <td>First Owner</td>\n",
       "      <td>4</td>\n",
       "      <td>180</td>\n",
       "      <td>TVS</td>\n",
       "    </tr>\n",
       "    <tr>\n",
       "      <th>4</th>\n",
       "      <td>Yamaha FZ S V 2.0 150cc-Ltd. Edition</td>\n",
       "      <td>80000</td>\n",
       "      <td>Bangalore</td>\n",
       "      <td>10000</td>\n",
       "      <td>First Owner</td>\n",
       "      <td>3</td>\n",
       "      <td>150</td>\n",
       "      <td>Yamaha</td>\n",
       "    </tr>\n",
       "    <tr>\n",
       "      <th>...</th>\n",
       "      <td>...</td>\n",
       "      <td>...</td>\n",
       "      <td>...</td>\n",
       "      <td>...</td>\n",
       "      <td>...</td>\n",
       "      <td>...</td>\n",
       "      <td>...</td>\n",
       "      <td>...</td>\n",
       "    </tr>\n",
       "    <tr>\n",
       "      <th>144</th>\n",
       "      <td>Royal Enfield Standard 350cc</td>\n",
       "      <td>115000</td>\n",
       "      <td>Hyderabad</td>\n",
       "      <td>14900</td>\n",
       "      <td>First Owner</td>\n",
       "      <td>3</td>\n",
       "      <td>350</td>\n",
       "      <td>Royal Enfield</td>\n",
       "    </tr>\n",
       "    <tr>\n",
       "      <th>145</th>\n",
       "      <td>Honda CB Shine 125cc Disc</td>\n",
       "      <td>65000</td>\n",
       "      <td>Mumbai</td>\n",
       "      <td>2000</td>\n",
       "      <td>First Owner</td>\n",
       "      <td>3</td>\n",
       "      <td>125</td>\n",
       "      <td>Honda</td>\n",
       "    </tr>\n",
       "    <tr>\n",
       "      <th>146</th>\n",
       "      <td>Honda CB Unicorn ABS 150cc</td>\n",
       "      <td>99000</td>\n",
       "      <td>Mumbai</td>\n",
       "      <td>4000</td>\n",
       "      <td>First Owner</td>\n",
       "      <td>2</td>\n",
       "      <td>150</td>\n",
       "      <td>Honda</td>\n",
       "    </tr>\n",
       "    <tr>\n",
       "      <th>147</th>\n",
       "      <td>Yamaha YZF-R15 2.0 150cc</td>\n",
       "      <td>68500</td>\n",
       "      <td>Delhi</td>\n",
       "      <td>68500</td>\n",
       "      <td>Second Owner</td>\n",
       "      <td>7</td>\n",
       "      <td>150</td>\n",
       "      <td>Yamaha</td>\n",
       "    </tr>\n",
       "    <tr>\n",
       "      <th>148</th>\n",
       "      <td>Yamaha YZF-R15 V3 150cc</td>\n",
       "      <td>140000</td>\n",
       "      <td>Delhi</td>\n",
       "      <td>2473</td>\n",
       "      <td>First Owner</td>\n",
       "      <td>2</td>\n",
       "      <td>150</td>\n",
       "      <td>Yamaha</td>\n",
       "    </tr>\n",
       "  </tbody>\n",
       "</table>\n",
       "<p>149 rows × 8 columns</p>\n",
       "</div>"
      ],
      "text/plain": [
       "                                bike_name   price       city  kms_driven  \\\n",
       "0      TVS Star City Plus Dual Tone 110cc   35000  Ahmedabad       17654   \n",
       "1             Royal Enfield Classic 350cc  119900      Delhi       11000   \n",
       "2                    Triumph Daytona 675R  600000      Delhi         110   \n",
       "3                    TVS Apache RTR 180cc   65000  Bangalore       16329   \n",
       "4    Yamaha FZ S V 2.0 150cc-Ltd. Edition   80000  Bangalore       10000   \n",
       "..                                    ...     ...        ...         ...   \n",
       "144          Royal Enfield Standard 350cc  115000  Hyderabad       14900   \n",
       "145             Honda CB Shine 125cc Disc   65000     Mumbai        2000   \n",
       "146            Honda CB Unicorn ABS 150cc   99000     Mumbai        4000   \n",
       "147              Yamaha YZF-R15 2.0 150cc   68500      Delhi       68500   \n",
       "148               Yamaha YZF-R15 V3 150cc  140000      Delhi        2473   \n",
       "\n",
       "            owner  age  power          brand  \n",
       "0     First Owner    3    110            TVS  \n",
       "1     First Owner    4    350  Royal Enfield  \n",
       "2     First Owner    8    675        Triumph  \n",
       "3     First Owner    4    180            TVS  \n",
       "4     First Owner    3    150         Yamaha  \n",
       "..            ...  ...    ...            ...  \n",
       "144   First Owner    3    350  Royal Enfield  \n",
       "145   First Owner    3    125          Honda  \n",
       "146   First Owner    2    150          Honda  \n",
       "147  Second Owner    7    150         Yamaha  \n",
       "148   First Owner    2    150         Yamaha  \n",
       "\n",
       "[149 rows x 8 columns]"
      ]
     },
     "execution_count": 37,
     "metadata": {},
     "output_type": "execute_result"
    }
   ],
   "source": [
    "sql_query_string = 'SELECT * FROM used_bikes'\n",
    "sql_df = sql_query_to_pd(sql_query_string, db_name='data.db')\n",
    "sql_df"
   ]
  }
 ],
 "metadata": {
  "kernelspec": {
   "display_name": "Python 3",
   "language": "python",
   "name": "python3"
  },
  "language_info": {
   "codemirror_mode": {
    "name": "ipython",
    "version": 3
   },
   "file_extension": ".py",
   "mimetype": "text/x-python",
   "name": "python",
   "nbconvert_exporter": "python",
   "pygments_lexer": "ipython3",
   "version": "3.8.8"
  }
 },
 "nbformat": 4,
 "nbformat_minor": 5
}
